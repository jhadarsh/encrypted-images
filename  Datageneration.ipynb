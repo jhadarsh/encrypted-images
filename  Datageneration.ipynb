{
 "cells": [
  {
   "cell_type": "code",
   "execution_count": 1,
   "id": "49170334-7694-4013-9628-08cd3283f4dc",
   "metadata": {},
   "outputs": [
    {
     "name": "stdout",
     "output_type": "stream",
     "text": [
      "Generating dataset...\n"
     ]
    },
    {
     "name": "stderr",
     "output_type": "stream",
     "text": [
      "100%|█████████████████████████████████████████████████████████████████████████████| 1000/1000 [00:03<00:00, 255.66it/s]"
     ]
    },
    {
     "name": "stdout",
     "output_type": "stream",
     "text": [
      "Dataset generation complete!\n"
     ]
    },
    {
     "name": "stderr",
     "output_type": "stream",
     "text": [
      "\n"
     ]
    }
   ],
   "source": [
    "import os\n",
    "import cv2\n",
    "import numpy as np\n",
    "from tqdm import tqdm\n",
    "\n",
    "# Define dataset paths\n",
    "dataset_path = \"dataset\"\n",
    "random_path = os.path.join(dataset_path, \"random\")\n",
    "encrypted_path = os.path.join(dataset_path, \"encrypted\")\n",
    "\n",
    "# Create directories if they don't exist\n",
    "os.makedirs(random_path, exist_ok=True)\n",
    "os.makedirs(encrypted_path, exist_ok=True)\n",
    "\n",
    "# Image size and number of samples\n",
    "img_size = (128, 128)  # Image dimensions\n",
    "num_images = 1000      # Number of images per class\n",
    "\n",
    "def generate_random_image():\n",
    "    \"\"\"Generate a random image with random pixel values.\"\"\"\n",
    "    return np.random.randint(0, 256, (img_size[0], img_size[1], 3), dtype=np.uint8)\n",
    "\n",
    "def encrypt_image(img):\n",
    "    \"\"\"Encrypt image using XOR encryption with a random key.\"\"\"\n",
    "    key = np.random.randint(0, 256, (1, 1, 3), dtype=np.uint8)  # Generate a random key\n",
    "    encrypted_img = cv2.bitwise_xor(img, key)  # XOR encryption\n",
    "    return encrypted_img\n",
    "\n",
    "# Generate dataset\n",
    "print(\"Generating dataset...\")\n",
    "\n",
    "for i in tqdm(range(num_images)):\n",
    "    # Generate and save random image\n",
    "    random_img = generate_random_image()\n",
    "    random_img_path = os.path.join(random_path, f\"random_{i}.png\")\n",
    "    cv2.imwrite(random_img_path, random_img)\n",
    "    \n",
    "    # Encrypt and save image\n",
    "    encrypted_img = encrypt_image(random_img)\n",
    "    encrypted_img_path = os.path.join(encrypted_path, f\"encrypted_{i}.png\")\n",
    "    cv2.imwrite(encrypted_img_path, encrypted_img)\n",
    "\n",
    "print(\"Dataset generation complete!\")\n"
   ]
  },
  {
   "cell_type": "code",
   "execution_count": null,
   "id": "70f24eeb-0c68-41c5-a161-f6c055014967",
   "metadata": {},
   "outputs": [],
   "source": []
  }
 ],
 "metadata": {
  "kernelspec": {
   "display_name": "Python 3 (ipykernel)",
   "language": "python",
   "name": "python3"
  },
  "language_info": {
   "codemirror_mode": {
    "name": "ipython",
    "version": 3
   },
   "file_extension": ".py",
   "mimetype": "text/x-python",
   "name": "python",
   "nbconvert_exporter": "python",
   "pygments_lexer": "ipython3",
   "version": "3.10.11"
  }
 },
 "nbformat": 4,
 "nbformat_minor": 5
}
